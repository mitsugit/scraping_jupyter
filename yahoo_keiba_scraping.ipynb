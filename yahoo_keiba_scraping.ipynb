{
 "metadata": {
  "language_info": {
   "codemirror_mode": {
    "name": "ipython",
    "version": 3
   },
   "file_extension": ".py",
   "mimetype": "text/x-python",
   "name": "python",
   "nbconvert_exporter": "python",
   "pygments_lexer": "ipython3",
   "version": "3.7.7-final"
  },
  "orig_nbformat": 2,
  "kernelspec": {
   "name": "python3",
   "display_name": "Python 3"
  }
 },
 "nbformat": 4,
 "nbformat_minor": 2,
 "cells": [
  {
   "cell_type": "code",
   "execution_count": 1,
   "metadata": {},
   "outputs": [],
   "source": [
    "import pandas as pd"
   ]
  },
  {
   "cell_type": "code",
   "execution_count": 38,
   "metadata": {},
   "outputs": [],
   "source": [
    "url_list = [\"https://keiba.yahoo.co.jp/odds/tfw/2006040101/\",\"https://keiba.yahoo.co.jp/odds/tfw/2006040102/\"]"
   ]
  },
  {
   "cell_type": "code",
   "execution_count": 51,
   "metadata": {},
   "outputs": [],
   "source": [
    "df_list = []\n",
    "for num,i in enumerate(url_list):\n",
    "    df_list.append(pd.read_html(i)[2:4])"
   ]
  },
  {
   "cell_type": "code",
   "execution_count": null,
   "metadata": {},
   "outputs": [],
   "source": []
  },
  {
   "cell_type": "code",
   "execution_count": 80,
   "metadata": {
    "tags": []
   },
   "outputs": [],
   "source": [
    "#test1 =  df_list[0]\n",
    "df_list_mod = []\n",
    "for i in df_list:\n",
    "    x =pd.concat([i[0],i[1]], ignore_index=True,axis=0)\n",
    "    df_list_mod.append(x)\n",
    "\n"
   ]
  },
  {
   "cell_type": "code",
   "execution_count": 90,
   "metadata": {},
   "outputs": [
    {
     "output_type": "execute_result",
     "data": {
      "text/plain": "    枠   馬         馬名     単勝    複勝 複勝.1  複勝.2\n0   1   1  ジョーカーワイルド   23.2   3.3    -   6.2\n1   2   2  マリノパシフィカス  191.9  19.8    -  39.1\n2   3   3    ブルベアカーキ   23.1   3.5    -   6.5\n3   4   4  テイエムチェロキー    2.3   1.1    -   1.4\n4   4   5  ダイシンクローバー    5.9   1.4    -   2.3\n5   5   6     ピュアヒカリ   50.6   7.1    -  13.7\n6   5   7    シゲルタケノコ    3.4   1.2    -   1.7\n7   6   8  ヒドゥンパラメータ   16.3   3.5    -   6.6\n8   6   9   ストロングヘヴン  104.2  12.3    -  24.2\n9   7  10   オウケンブラック    7.5   1.6    -   2.7\n10  7  11  クラウンデフィート   68.7   6.5    -  12.6\n11  8  12     シーズラック   42.1   5.0    -   9.5\n12  8  13  ヤマタケフリーダム  134.9  21.6    -  42.6",
      "text/html": "<div>\n<style scoped>\n    .dataframe tbody tr th:only-of-type {\n        vertical-align: middle;\n    }\n\n    .dataframe tbody tr th {\n        vertical-align: top;\n    }\n\n    .dataframe thead th {\n        text-align: right;\n    }\n</style>\n<table border=\"1\" class=\"dataframe\">\n  <thead>\n    <tr style=\"text-align: right;\">\n      <th></th>\n      <th>枠</th>\n      <th>馬</th>\n      <th>馬名</th>\n      <th>単勝</th>\n      <th>複勝</th>\n      <th>複勝.1</th>\n      <th>複勝.2</th>\n    </tr>\n  </thead>\n  <tbody>\n    <tr>\n      <th>0</th>\n      <td>1</td>\n      <td>1</td>\n      <td>ジョーカーワイルド</td>\n      <td>23.2</td>\n      <td>3.3</td>\n      <td>-</td>\n      <td>6.2</td>\n    </tr>\n    <tr>\n      <th>1</th>\n      <td>2</td>\n      <td>2</td>\n      <td>マリノパシフィカス</td>\n      <td>191.9</td>\n      <td>19.8</td>\n      <td>-</td>\n      <td>39.1</td>\n    </tr>\n    <tr>\n      <th>2</th>\n      <td>3</td>\n      <td>3</td>\n      <td>ブルベアカーキ</td>\n      <td>23.1</td>\n      <td>3.5</td>\n      <td>-</td>\n      <td>6.5</td>\n    </tr>\n    <tr>\n      <th>3</th>\n      <td>4</td>\n      <td>4</td>\n      <td>テイエムチェロキー</td>\n      <td>2.3</td>\n      <td>1.1</td>\n      <td>-</td>\n      <td>1.4</td>\n    </tr>\n    <tr>\n      <th>4</th>\n      <td>4</td>\n      <td>5</td>\n      <td>ダイシンクローバー</td>\n      <td>5.9</td>\n      <td>1.4</td>\n      <td>-</td>\n      <td>2.3</td>\n    </tr>\n    <tr>\n      <th>5</th>\n      <td>5</td>\n      <td>6</td>\n      <td>ピュアヒカリ</td>\n      <td>50.6</td>\n      <td>7.1</td>\n      <td>-</td>\n      <td>13.7</td>\n    </tr>\n    <tr>\n      <th>6</th>\n      <td>5</td>\n      <td>7</td>\n      <td>シゲルタケノコ</td>\n      <td>3.4</td>\n      <td>1.2</td>\n      <td>-</td>\n      <td>1.7</td>\n    </tr>\n    <tr>\n      <th>7</th>\n      <td>6</td>\n      <td>8</td>\n      <td>ヒドゥンパラメータ</td>\n      <td>16.3</td>\n      <td>3.5</td>\n      <td>-</td>\n      <td>6.6</td>\n    </tr>\n    <tr>\n      <th>8</th>\n      <td>6</td>\n      <td>9</td>\n      <td>ストロングヘヴン</td>\n      <td>104.2</td>\n      <td>12.3</td>\n      <td>-</td>\n      <td>24.2</td>\n    </tr>\n    <tr>\n      <th>9</th>\n      <td>7</td>\n      <td>10</td>\n      <td>オウケンブラック</td>\n      <td>7.5</td>\n      <td>1.6</td>\n      <td>-</td>\n      <td>2.7</td>\n    </tr>\n    <tr>\n      <th>10</th>\n      <td>7</td>\n      <td>11</td>\n      <td>クラウンデフィート</td>\n      <td>68.7</td>\n      <td>6.5</td>\n      <td>-</td>\n      <td>12.6</td>\n    </tr>\n    <tr>\n      <th>11</th>\n      <td>8</td>\n      <td>12</td>\n      <td>シーズラック</td>\n      <td>42.1</td>\n      <td>5.0</td>\n      <td>-</td>\n      <td>9.5</td>\n    </tr>\n    <tr>\n      <th>12</th>\n      <td>8</td>\n      <td>13</td>\n      <td>ヤマタケフリーダム</td>\n      <td>134.9</td>\n      <td>21.6</td>\n      <td>-</td>\n      <td>42.6</td>\n    </tr>\n  </tbody>\n</table>\n</div>"
     },
     "metadata": {},
     "execution_count": 90
    }
   ],
   "source": [
    "df_list_mod[0]"
   ]
  },
  {
   "cell_type": "code",
   "execution_count": 83,
   "metadata": {},
   "outputs": [],
   "source": [
    "df = df_list_mod[0]\n",
    "for i in df_list_mod:\n",
    "    df = pd.concat([df,i], ignore_index=True,axis=0)"
   ]
  },
  {
   "cell_type": "code",
   "execution_count": 87,
   "metadata": {},
   "outputs": [
    {
     "output_type": "execute_result",
     "data": {
      "text/plain": "    枠   馬         馬名     単勝    複勝 複勝.1  複勝.2\n0   1   1  ジョーカーワイルド   23.2   3.3    -   6.2\n1   2   2  マリノパシフィカス  191.9  19.8    -  39.1\n2   3   3    ブルベアカーキ   23.1   3.5    -   6.5\n3   4   4  テイエムチェロキー    2.3   1.1    -   1.4\n4   4   5  ダイシンクローバー    5.9   1.4    -   2.3\n5   5   6     ピュアヒカリ   50.6   7.1    -  13.7\n6   5   7    シゲルタケノコ    3.4   1.2    -   1.7\n7   6   8  ヒドゥンパラメータ   16.3   3.5    -   6.6\n8   6   9   ストロングヘヴン  104.2  12.3    -  24.2\n9   7  10   オウケンブラック    7.5   1.6    -   2.7\n10  7  11  クラウンデフィート   68.7   6.5    -  12.6\n11  8  12     シーズラック   42.1   5.0    -   9.5\n12  8  13  ヤマタケフリーダム  134.9  21.6    -  42.6\n13  1   1  ジョーカーワイルド   23.2   3.3    -   6.2\n14  2   2  マリノパシフィカス  191.9  19.8    -  39.1\n15  3   3    ブルベアカーキ   23.1   3.5    -   6.5\n16  4   4  テイエムチェロキー    2.3   1.1    -   1.4\n17  4   5  ダイシンクローバー    5.9   1.4    -   2.3\n18  5   6     ピュアヒカリ   50.6   7.1    -  13.7\n19  5   7    シゲルタケノコ    3.4   1.2    -   1.7\n20  6   8  ヒドゥンパラメータ   16.3   3.5    -   6.6\n21  6   9   ストロングヘヴン  104.2  12.3    -  24.2\n22  7  10   オウケンブラック    7.5   1.6    -   2.7\n23  7  11  クラウンデフィート   68.7   6.5    -  12.6\n24  8  12     シーズラック   42.1   5.0    -   9.5\n25  8  13  ヤマタケフリーダム  134.9  21.6    -  42.6\n26  1   1        ヤクモ  182.9  36.4    -  63.3\n27  1   2      ベルリーソ   81.4  11.7    -  20.2\n28  2   3      ヴルカーノ    7.4   1.8    -   2.7\n29  2   4  グローエルディング    5.5   1.7    -   2.5\n30  3   5    ケイツーマルカ    7.0   1.8    -   2.8\n31  3   6        キュン   22.9   4.2    -   7.0\n32  4   7    ベアナチュラル   36.4   5.7    -   9.6\n33  4   8    キタノシンスケ   51.1   6.6    -  11.2\n34  5   9   タマダイヤモンド    2.4   1.1    -   1.4\n35  5  10       エーアイ   42.2   6.3    -  10.7\n36  6  11  マイネルキュリアス  141.6  20.5    -  35.5\n37  6  12    ブレスロガール  163.0  17.4    -  30.1\n38  7  13  テイエムダイアタリ   42.5   6.3    -  10.6\n39  7  14  アイノファンタジー   34.4   4.3    -   7.1\n40  8  15   トーセンダニエル    8.5   1.9    -   2.9\n41  8  16    ベストシーズン  272.3  45.7    -  79.4",
      "text/html": "<div>\n<style scoped>\n    .dataframe tbody tr th:only-of-type {\n        vertical-align: middle;\n    }\n\n    .dataframe tbody tr th {\n        vertical-align: top;\n    }\n\n    .dataframe thead th {\n        text-align: right;\n    }\n</style>\n<table border=\"1\" class=\"dataframe\">\n  <thead>\n    <tr style=\"text-align: right;\">\n      <th></th>\n      <th>枠</th>\n      <th>馬</th>\n      <th>馬名</th>\n      <th>単勝</th>\n      <th>複勝</th>\n      <th>複勝.1</th>\n      <th>複勝.2</th>\n    </tr>\n  </thead>\n  <tbody>\n    <tr>\n      <th>0</th>\n      <td>1</td>\n      <td>1</td>\n      <td>ジョーカーワイルド</td>\n      <td>23.2</td>\n      <td>3.3</td>\n      <td>-</td>\n      <td>6.2</td>\n    </tr>\n    <tr>\n      <th>1</th>\n      <td>2</td>\n      <td>2</td>\n      <td>マリノパシフィカス</td>\n      <td>191.9</td>\n      <td>19.8</td>\n      <td>-</td>\n      <td>39.1</td>\n    </tr>\n    <tr>\n      <th>2</th>\n      <td>3</td>\n      <td>3</td>\n      <td>ブルベアカーキ</td>\n      <td>23.1</td>\n      <td>3.5</td>\n      <td>-</td>\n      <td>6.5</td>\n    </tr>\n    <tr>\n      <th>3</th>\n      <td>4</td>\n      <td>4</td>\n      <td>テイエムチェロキー</td>\n      <td>2.3</td>\n      <td>1.1</td>\n      <td>-</td>\n      <td>1.4</td>\n    </tr>\n    <tr>\n      <th>4</th>\n      <td>4</td>\n      <td>5</td>\n      <td>ダイシンクローバー</td>\n      <td>5.9</td>\n      <td>1.4</td>\n      <td>-</td>\n      <td>2.3</td>\n    </tr>\n    <tr>\n      <th>5</th>\n      <td>5</td>\n      <td>6</td>\n      <td>ピュアヒカリ</td>\n      <td>50.6</td>\n      <td>7.1</td>\n      <td>-</td>\n      <td>13.7</td>\n    </tr>\n    <tr>\n      <th>6</th>\n      <td>5</td>\n      <td>7</td>\n      <td>シゲルタケノコ</td>\n      <td>3.4</td>\n      <td>1.2</td>\n      <td>-</td>\n      <td>1.7</td>\n    </tr>\n    <tr>\n      <th>7</th>\n      <td>6</td>\n      <td>8</td>\n      <td>ヒドゥンパラメータ</td>\n      <td>16.3</td>\n      <td>3.5</td>\n      <td>-</td>\n      <td>6.6</td>\n    </tr>\n    <tr>\n      <th>8</th>\n      <td>6</td>\n      <td>9</td>\n      <td>ストロングヘヴン</td>\n      <td>104.2</td>\n      <td>12.3</td>\n      <td>-</td>\n      <td>24.2</td>\n    </tr>\n    <tr>\n      <th>9</th>\n      <td>7</td>\n      <td>10</td>\n      <td>オウケンブラック</td>\n      <td>7.5</td>\n      <td>1.6</td>\n      <td>-</td>\n      <td>2.7</td>\n    </tr>\n    <tr>\n      <th>10</th>\n      <td>7</td>\n      <td>11</td>\n      <td>クラウンデフィート</td>\n      <td>68.7</td>\n      <td>6.5</td>\n      <td>-</td>\n      <td>12.6</td>\n    </tr>\n    <tr>\n      <th>11</th>\n      <td>8</td>\n      <td>12</td>\n      <td>シーズラック</td>\n      <td>42.1</td>\n      <td>5.0</td>\n      <td>-</td>\n      <td>9.5</td>\n    </tr>\n    <tr>\n      <th>12</th>\n      <td>8</td>\n      <td>13</td>\n      <td>ヤマタケフリーダム</td>\n      <td>134.9</td>\n      <td>21.6</td>\n      <td>-</td>\n      <td>42.6</td>\n    </tr>\n    <tr>\n      <th>13</th>\n      <td>1</td>\n      <td>1</td>\n      <td>ジョーカーワイルド</td>\n      <td>23.2</td>\n      <td>3.3</td>\n      <td>-</td>\n      <td>6.2</td>\n    </tr>\n    <tr>\n      <th>14</th>\n      <td>2</td>\n      <td>2</td>\n      <td>マリノパシフィカス</td>\n      <td>191.9</td>\n      <td>19.8</td>\n      <td>-</td>\n      <td>39.1</td>\n    </tr>\n    <tr>\n      <th>15</th>\n      <td>3</td>\n      <td>3</td>\n      <td>ブルベアカーキ</td>\n      <td>23.1</td>\n      <td>3.5</td>\n      <td>-</td>\n      <td>6.5</td>\n    </tr>\n    <tr>\n      <th>16</th>\n      <td>4</td>\n      <td>4</td>\n      <td>テイエムチェロキー</td>\n      <td>2.3</td>\n      <td>1.1</td>\n      <td>-</td>\n      <td>1.4</td>\n    </tr>\n    <tr>\n      <th>17</th>\n      <td>4</td>\n      <td>5</td>\n      <td>ダイシンクローバー</td>\n      <td>5.9</td>\n      <td>1.4</td>\n      <td>-</td>\n      <td>2.3</td>\n    </tr>\n    <tr>\n      <th>18</th>\n      <td>5</td>\n      <td>6</td>\n      <td>ピュアヒカリ</td>\n      <td>50.6</td>\n      <td>7.1</td>\n      <td>-</td>\n      <td>13.7</td>\n    </tr>\n    <tr>\n      <th>19</th>\n      <td>5</td>\n      <td>7</td>\n      <td>シゲルタケノコ</td>\n      <td>3.4</td>\n      <td>1.2</td>\n      <td>-</td>\n      <td>1.7</td>\n    </tr>\n    <tr>\n      <th>20</th>\n      <td>6</td>\n      <td>8</td>\n      <td>ヒドゥンパラメータ</td>\n      <td>16.3</td>\n      <td>3.5</td>\n      <td>-</td>\n      <td>6.6</td>\n    </tr>\n    <tr>\n      <th>21</th>\n      <td>6</td>\n      <td>9</td>\n      <td>ストロングヘヴン</td>\n      <td>104.2</td>\n      <td>12.3</td>\n      <td>-</td>\n      <td>24.2</td>\n    </tr>\n    <tr>\n      <th>22</th>\n      <td>7</td>\n      <td>10</td>\n      <td>オウケンブラック</td>\n      <td>7.5</td>\n      <td>1.6</td>\n      <td>-</td>\n      <td>2.7</td>\n    </tr>\n    <tr>\n      <th>23</th>\n      <td>7</td>\n      <td>11</td>\n      <td>クラウンデフィート</td>\n      <td>68.7</td>\n      <td>6.5</td>\n      <td>-</td>\n      <td>12.6</td>\n    </tr>\n    <tr>\n      <th>24</th>\n      <td>8</td>\n      <td>12</td>\n      <td>シーズラック</td>\n      <td>42.1</td>\n      <td>5.0</td>\n      <td>-</td>\n      <td>9.5</td>\n    </tr>\n    <tr>\n      <th>25</th>\n      <td>8</td>\n      <td>13</td>\n      <td>ヤマタケフリーダム</td>\n      <td>134.9</td>\n      <td>21.6</td>\n      <td>-</td>\n      <td>42.6</td>\n    </tr>\n    <tr>\n      <th>26</th>\n      <td>1</td>\n      <td>1</td>\n      <td>ヤクモ</td>\n      <td>182.9</td>\n      <td>36.4</td>\n      <td>-</td>\n      <td>63.3</td>\n    </tr>\n    <tr>\n      <th>27</th>\n      <td>1</td>\n      <td>2</td>\n      <td>ベルリーソ</td>\n      <td>81.4</td>\n      <td>11.7</td>\n      <td>-</td>\n      <td>20.2</td>\n    </tr>\n    <tr>\n      <th>28</th>\n      <td>2</td>\n      <td>3</td>\n      <td>ヴルカーノ</td>\n      <td>7.4</td>\n      <td>1.8</td>\n      <td>-</td>\n      <td>2.7</td>\n    </tr>\n    <tr>\n      <th>29</th>\n      <td>2</td>\n      <td>4</td>\n      <td>グローエルディング</td>\n      <td>5.5</td>\n      <td>1.7</td>\n      <td>-</td>\n      <td>2.5</td>\n    </tr>\n    <tr>\n      <th>30</th>\n      <td>3</td>\n      <td>5</td>\n      <td>ケイツーマルカ</td>\n      <td>7.0</td>\n      <td>1.8</td>\n      <td>-</td>\n      <td>2.8</td>\n    </tr>\n    <tr>\n      <th>31</th>\n      <td>3</td>\n      <td>6</td>\n      <td>キュン</td>\n      <td>22.9</td>\n      <td>4.2</td>\n      <td>-</td>\n      <td>7.0</td>\n    </tr>\n    <tr>\n      <th>32</th>\n      <td>4</td>\n      <td>7</td>\n      <td>ベアナチュラル</td>\n      <td>36.4</td>\n      <td>5.7</td>\n      <td>-</td>\n      <td>9.6</td>\n    </tr>\n    <tr>\n      <th>33</th>\n      <td>4</td>\n      <td>8</td>\n      <td>キタノシンスケ</td>\n      <td>51.1</td>\n      <td>6.6</td>\n      <td>-</td>\n      <td>11.2</td>\n    </tr>\n    <tr>\n      <th>34</th>\n      <td>5</td>\n      <td>9</td>\n      <td>タマダイヤモンド</td>\n      <td>2.4</td>\n      <td>1.1</td>\n      <td>-</td>\n      <td>1.4</td>\n    </tr>\n    <tr>\n      <th>35</th>\n      <td>5</td>\n      <td>10</td>\n      <td>エーアイ</td>\n      <td>42.2</td>\n      <td>6.3</td>\n      <td>-</td>\n      <td>10.7</td>\n    </tr>\n    <tr>\n      <th>36</th>\n      <td>6</td>\n      <td>11</td>\n      <td>マイネルキュリアス</td>\n      <td>141.6</td>\n      <td>20.5</td>\n      <td>-</td>\n      <td>35.5</td>\n    </tr>\n    <tr>\n      <th>37</th>\n      <td>6</td>\n      <td>12</td>\n      <td>ブレスロガール</td>\n      <td>163.0</td>\n      <td>17.4</td>\n      <td>-</td>\n      <td>30.1</td>\n    </tr>\n    <tr>\n      <th>38</th>\n      <td>7</td>\n      <td>13</td>\n      <td>テイエムダイアタリ</td>\n      <td>42.5</td>\n      <td>6.3</td>\n      <td>-</td>\n      <td>10.6</td>\n    </tr>\n    <tr>\n      <th>39</th>\n      <td>7</td>\n      <td>14</td>\n      <td>アイノファンタジー</td>\n      <td>34.4</td>\n      <td>4.3</td>\n      <td>-</td>\n      <td>7.1</td>\n    </tr>\n    <tr>\n      <th>40</th>\n      <td>8</td>\n      <td>15</td>\n      <td>トーセンダニエル</td>\n      <td>8.5</td>\n      <td>1.9</td>\n      <td>-</td>\n      <td>2.9</td>\n    </tr>\n    <tr>\n      <th>41</th>\n      <td>8</td>\n      <td>16</td>\n      <td>ベストシーズン</td>\n      <td>272.3</td>\n      <td>45.7</td>\n      <td>-</td>\n      <td>79.4</td>\n    </tr>\n  </tbody>\n</table>\n</div>"
     },
     "metadata": {},
     "execution_count": 87
    }
   ],
   "source": [
    "df"
   ]
  },
  {
   "cell_type": "code",
   "execution_count": 46,
   "metadata": {},
   "outputs": [],
   "source": [
    "# 1個目のdf\n",
    "df_first = df_list[0]\n",
    "for x in df_list:\n",
    "    df_first.append(x)\n"
   ]
  },
  {
   "cell_type": "code",
   "execution_count": 44,
   "metadata": {
    "tags": []
   },
   "outputs": [
    {
     "output_type": "execute_result",
     "data": {
      "text/plain": "[   枠  馬         馬名     単勝    複勝 複勝.1  複勝.2\n 0  1  1  ジョーカーワイルド   23.2   3.3    -   6.2\n 1  2  2  マリノパシフィカス  191.9  19.8    -  39.1\n 2  3  3    ブルベアカーキ   23.1   3.5    -   6.5\n 3  4  4  テイエムチェロキー    2.3   1.1    -   1.4\n 4  4  5  ダイシンクローバー    5.9   1.4    -   2.3\n 5  5  6     ピュアヒカリ   50.6   7.1    -  13.7\n 6  5  7    シゲルタケノコ    3.4   1.2    -   1.7\n 7  6  8  ヒドゥンパラメータ   16.3   3.5    -   6.6\n 8  6  9   ストロングヘヴン  104.2  12.3    -  24.2,\n    枠   馬         馬名     単勝    複勝 複勝.1  複勝.2\n 0  7  10   オウケンブラック    7.5   1.6    -   2.7\n 1  7  11  クラウンデフィート   68.7   6.5    -  12.6\n 2  8  12     シーズラック   42.1   5.0    -   9.5\n 3  8  13  ヤマタケフリーダム  134.9  21.6    -  42.6,\n [...],\n [   枠  馬         馬名     単勝    複勝 複勝.1  複勝.2\n  0  1  1        ヤクモ  182.9  36.4    -  63.3\n  1  1  2      ベルリーソ   81.4  11.7    -  20.2\n  2  2  3      ヴルカーノ    7.4   1.8    -   2.7\n  3  2  4  グローエルディング    5.5   1.7    -   2.5\n  4  3  5    ケイツーマルカ    7.0   1.8    -   2.8\n  5  3  6        キュン   22.9   4.2    -   7.0\n  6  4  7    ベアナチュラル   36.4   5.7    -   9.6\n  7  4  8    キタノシンスケ   51.1   6.6    -  11.2\n  8  5  9   タマダイヤモンド    2.4   1.1    -   1.4,\n     枠   馬         馬名     単勝    複勝 複勝.1  複勝.2\n  0  5  10       エーアイ   42.2   6.3    -  10.7\n  1  6  11  マイネルキュリアス  141.6  20.5    -  35.5\n  2  6  12    ブレスロガール  163.0  17.4    -  30.1\n  3  7  13  テイエムダイアタリ   42.5   6.3    -  10.6\n  4  7  14  アイノファンタジー   34.4   4.3    -   7.1\n  5  8  15   トーセンダニエル    8.5   1.9    -   2.9\n  6  8  16    ベストシーズン  272.3  45.7    -  79.4]]"
     },
     "metadata": {},
     "execution_count": 44
    }
   ],
   "source": [
    "df_first"
   ]
  },
  {
   "cell_type": "code",
   "execution_count": null,
   "metadata": {},
   "outputs": [],
   "source": []
  },
  {
   "cell_type": "code",
   "execution_count": null,
   "metadata": {},
   "outputs": [],
   "source": []
  }
 ]
}