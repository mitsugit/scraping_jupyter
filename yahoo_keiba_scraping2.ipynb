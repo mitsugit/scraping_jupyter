{
 "metadata": {
  "language_info": {
   "codemirror_mode": {
    "name": "ipython",
    "version": 3
   },
   "file_extension": ".py",
   "mimetype": "text/x-python",
   "name": "python",
   "nbconvert_exporter": "python",
   "pygments_lexer": "ipython3",
   "version": "3.7.7-final"
  },
  "orig_nbformat": 2,
  "kernelspec": {
   "name": "python3",
   "display_name": "Python 3"
  }
 },
 "nbformat": 4,
 "nbformat_minor": 2,
 "cells": [
  {
   "cell_type": "code",
   "execution_count": 3,
   "metadata": {},
   "outputs": [],
   "source": [
    "from urllib import request\n",
    "from bs4 import BeautifulSoup"
   ]
  },
  {
   "cell_type": "code",
   "execution_count": 4,
   "metadata": {},
   "outputs": [],
   "source": [
    "url = \"https://keiba.yahoo.co.jp/odds/tfw/2006040101/\"\n",
    "\n",
    "response = request.urlopen(url)\n",
    "soup = BeautifulSoup(response)"
   ]
  },
  {
   "cell_type": "code",
   "execution_count": 50,
   "metadata": {},
   "outputs": [
    {
     "output_type": "execute_result",
     "data": {
      "text/plain": "'2020年9月12日（土）'"
     },
     "metadata": {},
     "execution_count": 50
    }
   ],
   "source": [
    "open_date=soup.find(id=\"raceTitDay\").text.split('|')[0].replace(\" \",\"\")\n",
    "open_date"
   ]
  },
  {
   "cell_type": "code",
   "execution_count": 52,
   "metadata": {},
   "outputs": [
    {
     "output_type": "execute_result",
     "data": {
      "text/plain": "' 4回中山1日 '"
     },
     "metadata": {},
     "execution_count": 52
    }
   ],
   "source": [
    "kaisai = soup.find(id=\"raceTitDay\").text.split(\"|\")[1]\n",
    "kaisai"
   ]
  },
  {
   "cell_type": "code",
   "execution_count": 57,
   "metadata": {},
   "outputs": [
    {
     "output_type": "execute_result",
     "data": {
      "text/plain": "'1R'"
     },
     "metadata": {},
     "execution_count": 57
    }
   ],
   "source": [
    "rece_No=soup.find(id=\"raceNo\").text\n",
    "rece_No"
   ]
  },
  {
   "cell_type": "code",
   "execution_count": null,
   "metadata": {},
   "outputs": [],
   "source": []
  }
 ]
}